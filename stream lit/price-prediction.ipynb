{
 "cells": [
  {
   "cell_type": "code",
   "execution_count": 23,
   "source": [
    "## for eda and visuls:\r\n",
    "import pandas as pd\r\n",
    "\r\n",
    "\r\n",
    "\r\n",
    "\r\n",
    "\r\n",
    "\r\n",
    "\r\n"
   ],
   "outputs": [],
   "metadata": {
    "execution": {
     "iopub.execute_input": "2021-08-10T17:00:37.168320Z",
     "iopub.status.busy": "2021-08-10T17:00:37.167144Z",
     "iopub.status.idle": "2021-08-10T17:00:40.960828Z",
     "shell.execute_reply": "2021-08-10T17:00:40.960112Z",
     "shell.execute_reply.started": "2021-08-10T15:26:43.464496Z"
    },
    "papermill": {
     "duration": 3.837364,
     "end_time": "2021-08-10T17:00:40.961025",
     "exception": false,
     "start_time": "2021-08-10T17:00:37.123661",
     "status": "completed"
    },
    "tags": []
   }
  },
  {
   "cell_type": "code",
   "execution_count": 24,
   "source": [
    "df=pd.read_csv(\"data set/_All_Cities_Cleaned.csv\")\r\n",
    "\r\n",
    "\r\n",
    "df.head()"
   ],
   "outputs": [
    {
     "output_type": "execute_result",
     "data": {
      "text/html": [
       "<div>\n",
       "<style scoped>\n",
       "    .dataframe tbody tr th:only-of-type {\n",
       "        vertical-align: middle;\n",
       "    }\n",
       "\n",
       "    .dataframe tbody tr th {\n",
       "        vertical-align: top;\n",
       "    }\n",
       "\n",
       "    .dataframe thead th {\n",
       "        text-align: right;\n",
       "    }\n",
       "</style>\n",
       "<table border=\"1\" class=\"dataframe\">\n",
       "  <thead>\n",
       "    <tr style=\"text-align: right;\">\n",
       "      <th></th>\n",
       "      <th>seller_type</th>\n",
       "      <th>bedroom</th>\n",
       "      <th>layout_type</th>\n",
       "      <th>property_type</th>\n",
       "      <th>locality</th>\n",
       "      <th>price</th>\n",
       "      <th>area</th>\n",
       "      <th>furnish_type</th>\n",
       "      <th>bathroom</th>\n",
       "      <th>city</th>\n",
       "    </tr>\n",
       "  </thead>\n",
       "  <tbody>\n",
       "    <tr>\n",
       "      <th>0</th>\n",
       "      <td>OWNER</td>\n",
       "      <td>2.0</td>\n",
       "      <td>BHK</td>\n",
       "      <td>Apartment</td>\n",
       "      <td>Bodakdev</td>\n",
       "      <td>20000.0</td>\n",
       "      <td>1450.0</td>\n",
       "      <td>Furnished</td>\n",
       "      <td>2.0</td>\n",
       "      <td>Ahmedabad</td>\n",
       "    </tr>\n",
       "    <tr>\n",
       "      <th>1</th>\n",
       "      <td>OWNER</td>\n",
       "      <td>1.0</td>\n",
       "      <td>RK</td>\n",
       "      <td>Studio Apartment</td>\n",
       "      <td>CG Road</td>\n",
       "      <td>7350.0</td>\n",
       "      <td>210.0</td>\n",
       "      <td>Semi-Furnished</td>\n",
       "      <td>1.0</td>\n",
       "      <td>Ahmedabad</td>\n",
       "    </tr>\n",
       "    <tr>\n",
       "      <th>2</th>\n",
       "      <td>OWNER</td>\n",
       "      <td>3.0</td>\n",
       "      <td>BHK</td>\n",
       "      <td>Apartment</td>\n",
       "      <td>Jodhpur</td>\n",
       "      <td>22000.0</td>\n",
       "      <td>1900.0</td>\n",
       "      <td>Unfurnished</td>\n",
       "      <td>3.0</td>\n",
       "      <td>Ahmedabad</td>\n",
       "    </tr>\n",
       "    <tr>\n",
       "      <th>3</th>\n",
       "      <td>OWNER</td>\n",
       "      <td>2.0</td>\n",
       "      <td>BHK</td>\n",
       "      <td>Independent House</td>\n",
       "      <td>Sanand</td>\n",
       "      <td>13000.0</td>\n",
       "      <td>1285.0</td>\n",
       "      <td>Semi-Furnished</td>\n",
       "      <td>2.0</td>\n",
       "      <td>Ahmedabad</td>\n",
       "    </tr>\n",
       "    <tr>\n",
       "      <th>4</th>\n",
       "      <td>OWNER</td>\n",
       "      <td>2.0</td>\n",
       "      <td>BHK</td>\n",
       "      <td>Independent House</td>\n",
       "      <td>Navrangpura</td>\n",
       "      <td>18000.0</td>\n",
       "      <td>1600.0</td>\n",
       "      <td>Furnished</td>\n",
       "      <td>2.0</td>\n",
       "      <td>Ahmedabad</td>\n",
       "    </tr>\n",
       "  </tbody>\n",
       "</table>\n",
       "</div>"
      ],
      "text/plain": [
       "  seller_type  bedroom layout_type      property_type     locality    price  \\\n",
       "0       OWNER      2.0         BHK          Apartment     Bodakdev  20000.0   \n",
       "1       OWNER      1.0          RK   Studio Apartment      CG Road   7350.0   \n",
       "2       OWNER      3.0         BHK          Apartment      Jodhpur  22000.0   \n",
       "3       OWNER      2.0         BHK  Independent House       Sanand  13000.0   \n",
       "4       OWNER      2.0         BHK  Independent House  Navrangpura  18000.0   \n",
       "\n",
       "     area    furnish_type  bathroom       city  \n",
       "0  1450.0       Furnished       2.0  Ahmedabad  \n",
       "1   210.0  Semi-Furnished       1.0  Ahmedabad  \n",
       "2  1900.0     Unfurnished       3.0  Ahmedabad  \n",
       "3  1285.0  Semi-Furnished       2.0  Ahmedabad  \n",
       "4  1600.0       Furnished       2.0  Ahmedabad  "
      ]
     },
     "metadata": {},
     "execution_count": 24
    }
   ],
   "metadata": {
    "execution": {
     "iopub.execute_input": "2021-08-10T17:00:41.122547Z",
     "iopub.status.busy": "2021-08-10T17:00:41.121807Z",
     "iopub.status.idle": "2021-08-10T17:00:41.869709Z",
     "shell.execute_reply": "2021-08-10T17:00:41.868320Z",
     "shell.execute_reply.started": "2021-08-10T15:26:47.399687Z"
    },
    "papermill": {
     "duration": 0.792063,
     "end_time": "2021-08-10T17:00:41.869912",
     "exception": false,
     "start_time": "2021-08-10T17:00:41.077849",
     "status": "completed"
    },
    "tags": []
   }
  },
  {
   "cell_type": "code",
   "execution_count": 25,
   "source": [
    "df.drop_duplicates(inplace = True)"
   ],
   "outputs": [],
   "metadata": {
    "execution": {
     "iopub.execute_input": "2021-08-10T17:00:43.906355Z",
     "iopub.status.busy": "2021-08-10T17:00:43.905404Z",
     "iopub.status.idle": "2021-08-10T17:00:44.048729Z",
     "shell.execute_reply": "2021-08-10T17:00:44.048095Z",
     "shell.execute_reply.started": "2021-08-10T15:26:49.320554Z"
    },
    "papermill": {
     "duration": 0.188175,
     "end_time": "2021-08-10T17:00:44.048887",
     "exception": false,
     "start_time": "2021-08-10T17:00:43.860712",
     "status": "completed"
    },
    "tags": []
   }
  },
  {
   "cell_type": "markdown",
   "source": [
    "##  01. Handle outliers:"
   ],
   "metadata": {
    "papermill": {
     "duration": 0.052083,
     "end_time": "2021-08-10T17:01:10.088369",
     "exception": false,
     "start_time": "2021-08-10T17:01:10.036286",
     "status": "completed"
    },
    "tags": []
   }
  },
  {
   "cell_type": "code",
   "execution_count": 26,
   "source": [
    "df.head()"
   ],
   "outputs": [
    {
     "output_type": "execute_result",
     "data": {
      "text/html": [
       "<div>\n",
       "<style scoped>\n",
       "    .dataframe tbody tr th:only-of-type {\n",
       "        vertical-align: middle;\n",
       "    }\n",
       "\n",
       "    .dataframe tbody tr th {\n",
       "        vertical-align: top;\n",
       "    }\n",
       "\n",
       "    .dataframe thead th {\n",
       "        text-align: right;\n",
       "    }\n",
       "</style>\n",
       "<table border=\"1\" class=\"dataframe\">\n",
       "  <thead>\n",
       "    <tr style=\"text-align: right;\">\n",
       "      <th></th>\n",
       "      <th>seller_type</th>\n",
       "      <th>bedroom</th>\n",
       "      <th>layout_type</th>\n",
       "      <th>property_type</th>\n",
       "      <th>locality</th>\n",
       "      <th>price</th>\n",
       "      <th>area</th>\n",
       "      <th>furnish_type</th>\n",
       "      <th>bathroom</th>\n",
       "      <th>city</th>\n",
       "    </tr>\n",
       "  </thead>\n",
       "  <tbody>\n",
       "    <tr>\n",
       "      <th>0</th>\n",
       "      <td>OWNER</td>\n",
       "      <td>2.0</td>\n",
       "      <td>BHK</td>\n",
       "      <td>Apartment</td>\n",
       "      <td>Bodakdev</td>\n",
       "      <td>20000.0</td>\n",
       "      <td>1450.0</td>\n",
       "      <td>Furnished</td>\n",
       "      <td>2.0</td>\n",
       "      <td>Ahmedabad</td>\n",
       "    </tr>\n",
       "    <tr>\n",
       "      <th>1</th>\n",
       "      <td>OWNER</td>\n",
       "      <td>1.0</td>\n",
       "      <td>RK</td>\n",
       "      <td>Studio Apartment</td>\n",
       "      <td>CG Road</td>\n",
       "      <td>7350.0</td>\n",
       "      <td>210.0</td>\n",
       "      <td>Semi-Furnished</td>\n",
       "      <td>1.0</td>\n",
       "      <td>Ahmedabad</td>\n",
       "    </tr>\n",
       "    <tr>\n",
       "      <th>2</th>\n",
       "      <td>OWNER</td>\n",
       "      <td>3.0</td>\n",
       "      <td>BHK</td>\n",
       "      <td>Apartment</td>\n",
       "      <td>Jodhpur</td>\n",
       "      <td>22000.0</td>\n",
       "      <td>1900.0</td>\n",
       "      <td>Unfurnished</td>\n",
       "      <td>3.0</td>\n",
       "      <td>Ahmedabad</td>\n",
       "    </tr>\n",
       "    <tr>\n",
       "      <th>3</th>\n",
       "      <td>OWNER</td>\n",
       "      <td>2.0</td>\n",
       "      <td>BHK</td>\n",
       "      <td>Independent House</td>\n",
       "      <td>Sanand</td>\n",
       "      <td>13000.0</td>\n",
       "      <td>1285.0</td>\n",
       "      <td>Semi-Furnished</td>\n",
       "      <td>2.0</td>\n",
       "      <td>Ahmedabad</td>\n",
       "    </tr>\n",
       "    <tr>\n",
       "      <th>4</th>\n",
       "      <td>OWNER</td>\n",
       "      <td>2.0</td>\n",
       "      <td>BHK</td>\n",
       "      <td>Independent House</td>\n",
       "      <td>Navrangpura</td>\n",
       "      <td>18000.0</td>\n",
       "      <td>1600.0</td>\n",
       "      <td>Furnished</td>\n",
       "      <td>2.0</td>\n",
       "      <td>Ahmedabad</td>\n",
       "    </tr>\n",
       "  </tbody>\n",
       "</table>\n",
       "</div>"
      ],
      "text/plain": [
       "  seller_type  bedroom layout_type      property_type     locality    price  \\\n",
       "0       OWNER      2.0         BHK          Apartment     Bodakdev  20000.0   \n",
       "1       OWNER      1.0          RK   Studio Apartment      CG Road   7350.0   \n",
       "2       OWNER      3.0         BHK          Apartment      Jodhpur  22000.0   \n",
       "3       OWNER      2.0         BHK  Independent House       Sanand  13000.0   \n",
       "4       OWNER      2.0         BHK  Independent House  Navrangpura  18000.0   \n",
       "\n",
       "     area    furnish_type  bathroom       city  \n",
       "0  1450.0       Furnished       2.0  Ahmedabad  \n",
       "1   210.0  Semi-Furnished       1.0  Ahmedabad  \n",
       "2  1900.0     Unfurnished       3.0  Ahmedabad  \n",
       "3  1285.0  Semi-Furnished       2.0  Ahmedabad  \n",
       "4  1600.0       Furnished       2.0  Ahmedabad  "
      ]
     },
     "metadata": {},
     "execution_count": 26
    }
   ],
   "metadata": {
    "execution": {
     "iopub.execute_input": "2021-08-10T17:01:10.196407Z",
     "iopub.status.busy": "2021-08-10T17:01:10.195803Z",
     "iopub.status.idle": "2021-08-10T17:01:10.213833Z",
     "shell.execute_reply": "2021-08-10T17:01:10.214309Z",
     "shell.execute_reply.started": "2021-08-10T15:27:14.041594Z"
    },
    "papermill": {
     "duration": 0.073333,
     "end_time": "2021-08-10T17:01:10.214511",
     "exception": false,
     "start_time": "2021-08-10T17:01:10.141178",
     "status": "completed"
    },
    "tags": []
   }
  },
  {
   "cell_type": "markdown",
   "source": [
    "price,area"
   ],
   "metadata": {
    "papermill": {
     "duration": 0.051783,
     "end_time": "2021-08-10T17:01:10.318887",
     "exception": false,
     "start_time": "2021-08-10T17:01:10.267104",
     "status": "completed"
    },
    "tags": []
   }
  },
  {
   "cell_type": "code",
   "execution_count": 27,
   "source": [
    "import numpy as np"
   ],
   "outputs": [],
   "metadata": {
    "execution": {
     "iopub.execute_input": "2021-08-10T17:01:10.426967Z",
     "iopub.status.busy": "2021-08-10T17:01:10.426274Z",
     "iopub.status.idle": "2021-08-10T17:01:10.429909Z",
     "shell.execute_reply": "2021-08-10T17:01:10.430418Z",
     "shell.execute_reply.started": "2021-08-10T15:27:14.064152Z"
    },
    "papermill": {
     "duration": 0.059313,
     "end_time": "2021-08-10T17:01:10.430628",
     "exception": false,
     "start_time": "2021-08-10T17:01:10.371315",
     "status": "completed"
    },
    "tags": []
   }
  },
  {
   "cell_type": "code",
   "execution_count": null,
   "source": [],
   "outputs": [],
   "metadata": {
    "papermill": {
     "duration": 0.061094,
     "end_time": "2021-08-10T17:01:10.544646",
     "exception": false,
     "start_time": "2021-08-10T17:01:10.483552",
     "status": "completed"
    },
    "tags": []
   }
  },
  {
   "cell_type": "code",
   "execution_count": 28,
   "source": [
    "df[\"price\"]=np.log(df[\"price\"])\r\n",
    "df[\"area\"]=np.log(df[\"area\"])"
   ],
   "outputs": [],
   "metadata": {
    "execution": {
     "iopub.execute_input": "2021-08-10T17:01:10.672374Z",
     "iopub.status.busy": "2021-08-10T17:01:10.671767Z",
     "iopub.status.idle": "2021-08-10T17:01:10.684297Z",
     "shell.execute_reply": "2021-08-10T17:01:10.684783Z",
     "shell.execute_reply.started": "2021-08-10T15:27:14.070288Z"
    },
    "papermill": {
     "duration": 0.072197,
     "end_time": "2021-08-10T17:01:10.684968",
     "exception": false,
     "start_time": "2021-08-10T17:01:10.612771",
     "status": "completed"
    },
    "tags": []
   }
  },
  {
   "cell_type": "code",
   "execution_count": 29,
   "source": [
    "df[\"seller_type\"]=df[\"seller_type\"].map({'OWNER':0,'AGENT':1,'BUILDER':2})\r\n",
    "df[\"layout_type\"]=df[\"layout_type\"].map({'BHK':0,'RK':1})\r\n",
    "df[\"property_type\"]=df[\"property_type\"].map({'Apartment':0,'Studio Apartment':1,'Independent House':2,'Independent Floor':3,'Villa':4,'Penthouse':5})\r\n",
    "df[\"furnish_type\"]=df[\"furnish_type\"].map({'Furnished':0,'Semi-Furnished':1,'Unfurnished':2})\r\n",
    "df[\"city\"]=df[\"city\"].map({'Ahmedabad':0,'Bangalore':1,'Chennai':2,'Delhi':3,'Hyderabad':4,'Kolkata':5,'Mumbai':6,'Pune':7})\r\n",
    "\r\n",
    "\r\n",
    "\r\n"
   ],
   "outputs": [],
   "metadata": {
    "execution": {
     "iopub.execute_input": "2021-08-10T17:01:11.934344Z",
     "iopub.status.busy": "2021-08-10T17:01:11.933661Z",
     "iopub.status.idle": "2021-08-10T17:01:12.011259Z",
     "shell.execute_reply": "2021-08-10T17:01:12.010595Z",
     "shell.execute_reply.started": "2021-08-10T15:27:14.900308Z"
    },
    "papermill": {
     "duration": 0.155938,
     "end_time": "2021-08-10T17:01:12.011399",
     "exception": false,
     "start_time": "2021-08-10T17:01:11.855461",
     "status": "completed"
    },
    "tags": []
   }
  },
  {
   "cell_type": "code",
   "execution_count": 30,
   "source": [
    "df.drop(\"locality\",axis=1,inplace=True)"
   ],
   "outputs": [],
   "metadata": {}
  },
  {
   "cell_type": "markdown",
   "source": [
    "dum=pd.get_dummies(df[\"locality\"],drop_first=True)"
   ],
   "metadata": {}
  },
  {
   "cell_type": "markdown",
   "source": [
    "dum.columns"
   ],
   "metadata": {
    "execution": {
     "iopub.execute_input": "2021-08-10T17:01:12.646598Z",
     "iopub.status.busy": "2021-08-10T17:01:12.645672Z",
     "iopub.status.idle": "2021-08-10T17:01:12.649978Z",
     "shell.execute_reply": "2021-08-10T17:01:12.650543Z",
     "shell.execute_reply.started": "2021-08-10T15:27:15.210143Z"
    },
    "papermill": {
     "duration": 0.066915,
     "end_time": "2021-08-10T17:01:12.650750",
     "exception": false,
     "start_time": "2021-08-10T17:01:12.583835",
     "status": "completed"
    },
    "tags": []
   }
  },
  {
   "cell_type": "markdown",
   "source": [
    "dum2=pd.DataFrame(dum,columns=dum.columns)"
   ],
   "metadata": {
    "execution": {
     "iopub.execute_input": "2021-08-10T17:01:12.770045Z",
     "iopub.status.busy": "2021-08-10T17:01:12.769048Z",
     "iopub.status.idle": "2021-08-10T17:01:12.772052Z",
     "shell.execute_reply": "2021-08-10T17:01:12.772548Z",
     "shell.execute_reply.started": "2021-08-10T15:27:15.220672Z"
    },
    "papermill": {
     "duration": 0.065524,
     "end_time": "2021-08-10T17:01:12.772785",
     "exception": false,
     "start_time": "2021-08-10T17:01:12.707261",
     "status": "completed"
    },
    "tags": []
   }
  },
  {
   "cell_type": "markdown",
   "source": [
    "df2=pd.concat([df,dum2],axis=1)"
   ],
   "metadata": {
    "execution": {
     "iopub.execute_input": "2021-08-10T17:01:12.893076Z",
     "iopub.status.busy": "2021-08-10T17:01:12.891829Z",
     "iopub.status.idle": "2021-08-10T17:01:14.645997Z",
     "shell.execute_reply": "2021-08-10T17:01:14.646562Z",
     "shell.execute_reply.started": "2021-08-10T15:27:15.234991Z"
    },
    "papermill": {
     "duration": 1.817666,
     "end_time": "2021-08-10T17:01:14.646769",
     "exception": false,
     "start_time": "2021-08-10T17:01:12.829103",
     "status": "completed"
    },
    "tags": []
   }
  },
  {
   "cell_type": "markdown",
   "source": [
    "df2.drop(\"locality\",axis=1,inplace=True)"
   ],
   "metadata": {
    "execution": {
     "iopub.execute_input": "2021-08-10T17:01:14.761711Z",
     "iopub.status.busy": "2021-08-10T17:01:14.761099Z",
     "iopub.status.idle": "2021-08-10T17:01:15.286160Z",
     "shell.execute_reply": "2021-08-10T17:01:15.285436Z",
     "shell.execute_reply.started": "2021-08-10T15:27:16.838757Z"
    },
    "papermill": {
     "duration": 0.583747,
     "end_time": "2021-08-10T17:01:15.286321",
     "exception": false,
     "start_time": "2021-08-10T17:01:14.702574",
     "status": "completed"
    },
    "tags": []
   }
  },
  {
   "cell_type": "markdown",
   "source": [
    "df2.head()"
   ],
   "metadata": {
    "execution": {
     "iopub.execute_input": "2021-08-10T17:01:15.405151Z",
     "iopub.status.busy": "2021-08-10T17:01:15.404134Z",
     "iopub.status.idle": "2021-08-10T17:01:15.427867Z",
     "shell.execute_reply": "2021-08-10T17:01:15.428372Z",
     "shell.execute_reply.started": "2021-08-10T15:27:17.754671Z"
    },
    "papermill": {
     "duration": 0.086171,
     "end_time": "2021-08-10T17:01:15.428579",
     "exception": false,
     "start_time": "2021-08-10T17:01:15.342408",
     "status": "completed"
    },
    "tags": []
   }
  },
  {
   "cell_type": "markdown",
   "source": [
    "## Modelling:"
   ],
   "metadata": {
    "papermill": {
     "duration": 0.061483,
     "end_time": "2021-08-10T17:01:15.546791",
     "exception": false,
     "start_time": "2021-08-10T17:01:15.485308",
     "status": "completed"
    },
    "tags": []
   }
  },
  {
   "cell_type": "code",
   "execution_count": 34,
   "source": [
    "df.head()"
   ],
   "outputs": [
    {
     "output_type": "execute_result",
     "data": {
      "text/html": [
       "<div>\n",
       "<style scoped>\n",
       "    .dataframe tbody tr th:only-of-type {\n",
       "        vertical-align: middle;\n",
       "    }\n",
       "\n",
       "    .dataframe tbody tr th {\n",
       "        vertical-align: top;\n",
       "    }\n",
       "\n",
       "    .dataframe thead th {\n",
       "        text-align: right;\n",
       "    }\n",
       "</style>\n",
       "<table border=\"1\" class=\"dataframe\">\n",
       "  <thead>\n",
       "    <tr style=\"text-align: right;\">\n",
       "      <th></th>\n",
       "      <th>seller_type</th>\n",
       "      <th>bedroom</th>\n",
       "      <th>layout_type</th>\n",
       "      <th>property_type</th>\n",
       "      <th>price</th>\n",
       "      <th>area</th>\n",
       "      <th>furnish_type</th>\n",
       "      <th>bathroom</th>\n",
       "      <th>city</th>\n",
       "    </tr>\n",
       "  </thead>\n",
       "  <tbody>\n",
       "    <tr>\n",
       "      <th>0</th>\n",
       "      <td>0</td>\n",
       "      <td>2.0</td>\n",
       "      <td>0</td>\n",
       "      <td>0</td>\n",
       "      <td>9.903488</td>\n",
       "      <td>7.279319</td>\n",
       "      <td>0</td>\n",
       "      <td>2.0</td>\n",
       "      <td>0</td>\n",
       "    </tr>\n",
       "    <tr>\n",
       "      <th>1</th>\n",
       "      <td>0</td>\n",
       "      <td>1.0</td>\n",
       "      <td>1</td>\n",
       "      <td>1</td>\n",
       "      <td>8.902456</td>\n",
       "      <td>5.347108</td>\n",
       "      <td>1</td>\n",
       "      <td>1.0</td>\n",
       "      <td>0</td>\n",
       "    </tr>\n",
       "    <tr>\n",
       "      <th>2</th>\n",
       "      <td>0</td>\n",
       "      <td>3.0</td>\n",
       "      <td>0</td>\n",
       "      <td>0</td>\n",
       "      <td>9.998798</td>\n",
       "      <td>7.549609</td>\n",
       "      <td>2</td>\n",
       "      <td>3.0</td>\n",
       "      <td>0</td>\n",
       "    </tr>\n",
       "    <tr>\n",
       "      <th>3</th>\n",
       "      <td>0</td>\n",
       "      <td>2.0</td>\n",
       "      <td>0</td>\n",
       "      <td>2</td>\n",
       "      <td>9.472705</td>\n",
       "      <td>7.158514</td>\n",
       "      <td>1</td>\n",
       "      <td>2.0</td>\n",
       "      <td>0</td>\n",
       "    </tr>\n",
       "    <tr>\n",
       "      <th>4</th>\n",
       "      <td>0</td>\n",
       "      <td>2.0</td>\n",
       "      <td>0</td>\n",
       "      <td>2</td>\n",
       "      <td>9.798127</td>\n",
       "      <td>7.377759</td>\n",
       "      <td>0</td>\n",
       "      <td>2.0</td>\n",
       "      <td>0</td>\n",
       "    </tr>\n",
       "  </tbody>\n",
       "</table>\n",
       "</div>"
      ],
      "text/plain": [
       "   seller_type  bedroom  layout_type  property_type     price      area  \\\n",
       "0            0      2.0            0              0  9.903488  7.279319   \n",
       "1            0      1.0            1              1  8.902456  5.347108   \n",
       "2            0      3.0            0              0  9.998798  7.549609   \n",
       "3            0      2.0            0              2  9.472705  7.158514   \n",
       "4            0      2.0            0              2  9.798127  7.377759   \n",
       "\n",
       "   furnish_type  bathroom  city  \n",
       "0             0       2.0     0  \n",
       "1             1       1.0     0  \n",
       "2             2       3.0     0  \n",
       "3             1       2.0     0  \n",
       "4             0       2.0     0  "
      ]
     },
     "metadata": {},
     "execution_count": 34
    }
   ],
   "metadata": {}
  },
  {
   "cell_type": "code",
   "execution_count": 31,
   "source": [
    "X=df.drop(\"price\",axis=1)\r\n",
    "y=df[\"price\"]"
   ],
   "outputs": [],
   "metadata": {
    "execution": {
     "iopub.execute_input": "2021-08-10T17:01:15.663584Z",
     "iopub.status.busy": "2021-08-10T17:01:15.662928Z",
     "iopub.status.idle": "2021-08-10T17:01:16.439880Z",
     "shell.execute_reply": "2021-08-10T17:01:16.439037Z",
     "shell.execute_reply.started": "2021-08-10T15:27:17.784234Z"
    },
    "papermill": {
     "duration": 0.837255,
     "end_time": "2021-08-10T17:01:16.440112",
     "exception": false,
     "start_time": "2021-08-10T17:01:15.602857",
     "status": "completed"
    },
    "tags": []
   }
  },
  {
   "cell_type": "code",
   "execution_count": 32,
   "source": [
    "from sklearn.model_selection import train_test_split\r\n",
    "X_train,X_test,y_train,y_test=train_test_split(X,y,test_size=0.2,random_state=0)\r\n",
    "\r\n"
   ],
   "outputs": [],
   "metadata": {
    "execution": {
     "iopub.execute_input": "2021-08-10T17:01:16.701908Z",
     "iopub.status.busy": "2021-08-10T17:01:16.700950Z",
     "iopub.status.idle": "2021-08-10T17:01:19.877614Z",
     "shell.execute_reply": "2021-08-10T17:01:19.877055Z",
     "shell.execute_reply.started": "2021-08-10T15:27:18.479733Z"
    },
    "papermill": {
     "duration": 3.245691,
     "end_time": "2021-08-10T17:01:19.877789",
     "exception": false,
     "start_time": "2021-08-10T17:01:16.632098",
     "status": "completed"
    },
    "tags": []
   }
  },
  {
   "cell_type": "code",
   "execution_count": 33,
   "source": [
    "from sklearn import metrics\r\n"
   ],
   "outputs": [],
   "metadata": {
    "execution": {
     "iopub.execute_input": "2021-08-10T17:01:20.006809Z",
     "iopub.status.busy": "2021-08-10T17:01:20.006110Z",
     "iopub.status.idle": "2021-08-10T17:01:20.008044Z",
     "shell.execute_reply": "2021-08-10T17:01:20.008550Z",
     "shell.execute_reply.started": "2021-08-10T15:27:21.889591Z"
    },
    "papermill": {
     "duration": 0.073221,
     "end_time": "2021-08-10T17:01:20.008747",
     "exception": false,
     "start_time": "2021-08-10T17:01:19.935526",
     "status": "completed"
    },
    "tags": []
   }
  },
  {
   "cell_type": "code",
   "execution_count": 35,
   "source": [
    "from sklearn.linear_model import LinearRegression\r\n",
    "model=LinearRegression()\r\n",
    "model.fit(X_train,y_train)\r\n",
    "y_pred=model.predict(X_test)\r\n"
   ],
   "outputs": [],
   "metadata": {
    "execution": {
     "iopub.execute_input": "2021-08-10T17:01:20.125929Z",
     "iopub.status.busy": "2021-08-10T17:01:20.125241Z",
     "iopub.status.idle": "2021-08-10T17:02:59.454248Z",
     "shell.execute_reply": "2021-08-10T17:02:59.455184Z",
     "shell.execute_reply.started": "2021-08-10T15:27:21.897043Z"
    },
    "papermill": {
     "duration": 99.389838,
     "end_time": "2021-08-10T17:02:59.455537",
     "exception": false,
     "start_time": "2021-08-10T17:01:20.065699",
     "status": "completed"
    },
    "tags": []
   }
  },
  {
   "cell_type": "code",
   "execution_count": 37,
   "source": [
    "metrics.r2_score(y_test,y_pred)"
   ],
   "outputs": [
    {
     "output_type": "execute_result",
     "data": {
      "text/plain": [
       "0.6551266497041028"
      ]
     },
     "metadata": {},
     "execution_count": 37
    }
   ],
   "metadata": {
    "papermill": {
     "duration": 0.05773,
     "end_time": "2021-08-10T17:20:28.552121",
     "exception": false,
     "start_time": "2021-08-10T17:20:28.494391",
     "status": "completed"
    },
    "tags": []
   }
  },
  {
   "cell_type": "code",
   "execution_count": 38,
   "source": [
    "import pickle"
   ],
   "outputs": [],
   "metadata": {}
  },
  {
   "cell_type": "code",
   "execution_count": 39,
   "source": [
    "filename=\"house.pkl\""
   ],
   "outputs": [],
   "metadata": {}
  },
  {
   "cell_type": "code",
   "execution_count": 40,
   "source": [
    "pickle.dump(model,open(filename,'wb'))"
   ],
   "outputs": [],
   "metadata": {}
  },
  {
   "cell_type": "code",
   "execution_count": 41,
   "source": [
    "df.columns"
   ],
   "outputs": [
    {
     "output_type": "execute_result",
     "data": {
      "text/plain": [
       "Index(['seller_type', 'bedroom', 'layout_type', 'property_type', 'price',\n",
       "       'area', 'furnish_type', 'bathroom', 'city'],\n",
       "      dtype='object')"
      ]
     },
     "metadata": {},
     "execution_count": 41
    }
   ],
   "metadata": {}
  },
  {
   "cell_type": "code",
   "execution_count": null,
   "source": [],
   "outputs": [],
   "metadata": {}
  }
 ],
 "metadata": {
  "kernelspec": {
   "name": "python3",
   "display_name": "Python 3.9.5 64-bit ('stream': venv)"
  },
  "language_info": {
   "codemirror_mode": {
    "name": "ipython",
    "version": 3
   },
   "file_extension": ".py",
   "mimetype": "text/x-python",
   "name": "python",
   "nbconvert_exporter": "python",
   "pygments_lexer": "ipython3",
   "version": "3.9.5"
  },
  "papermill": {
   "default_parameters": {},
   "duration": 1202.370047,
   "end_time": "2021-08-10T17:20:31.081187",
   "environment_variables": {},
   "exception": null,
   "input_path": "__notebook__.ipynb",
   "output_path": "__notebook__.ipynb",
   "parameters": {},
   "start_time": "2021-08-10T17:00:28.711140",
   "version": "2.3.3"
  },
  "interpreter": {
   "hash": "d20df481311bc9043ced595df6bf4cb06cd498bacef0eb42967ce4fc0730f467"
  }
 },
 "nbformat": 4,
 "nbformat_minor": 5
}